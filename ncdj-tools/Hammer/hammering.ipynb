{
 "cells": [
  {
   "cell_type": "markdown",
   "metadata": {},
   "source": [
    "## Core modules"
   ]
  },
  {
   "cell_type": "code",
   "execution_count": 1,
   "metadata": {},
   "outputs": [],
   "source": [
    "import os\n",
    "import sys \n",
    "import django"
   ]
  },
  {
   "cell_type": "markdown",
   "metadata": {},
   "source": [
    "## Django/Doccano setup and imports"
   ]
  },
  {
   "cell_type": "code",
   "execution_count": 2,
   "metadata": {},
   "outputs": [],
   "source": [
    "sys.path.append(os.path.abspath('../../app'))\n",
    "os.environ.setdefault('DJANGO_SETTINGS_MODULE', 'app.settings')\n",
    "django.setup()\n",
    "\n",
    "from django.contrib.auth.models import User\n",
    "from django.shortcuts import get_object_or_404\n",
    "from server.models import Project, SequenceLabelingProject,\\\n",
    "Label, SequenceAnnotation, Document"
   ]
  },
  {
   "cell_type": "markdown",
   "metadata": {},
   "source": [
    "### Annotators identifiers"
   ]
  },
  {
   "cell_type": "code",
   "execution_count": null,
   "metadata": {},
   "outputs": [],
   "source": [
    "with open('../creation-pipeline/data/annotators.old.csv', 'r') as fh:\n",
    "    content = fh.readlines()"
   ]
  },
  {
   "cell_type": "code",
   "execution_count": null,
   "metadata": {},
   "outputs": [],
   "source": [
    "identifiers = [line.split(',')[1] for line in content[1:]]"
   ]
  },
  {
   "cell_type": "markdown",
   "metadata": {},
   "source": [
    "### Annotations per user"
   ]
  },
  {
   "cell_type": "code",
   "execution_count": null,
   "metadata": {},
   "outputs": [],
   "source": [
    "count = {}\n",
    "for annotator in identifiers:\n",
    "    user = User.objects.filter(username=annotator).first()\n",
    "    project = Project.objects.all().filter(users__username=user).first()\n",
    "    project_id = project.id\n",
    "    documents = Document.objects.all().filter(project=project)\n",
    "    annotations = SequenceAnnotation.objects.all().filter(document__in=documents)\n",
    "    count[annotator] = annotations.count()\n",
    "count"
   ]
  },
  {
   "cell_type": "markdown",
   "metadata": {},
   "source": [
    "### Annotations by label"
   ]
  },
  {
   "cell_type": "code",
   "execution_count": null,
   "metadata": {},
   "outputs": [],
   "source": [
    "count = {}\n",
    "for annotator in identifiers:\n",
    "    user = User.objects.filter(username=annotator).first()\n",
    "    project = Project.objects.all().filter(users__username=user).first()    \n",
    "    documents = Document.objects.all().filter(project=project)\n",
    "    label_instance = Label.objects.filter(text='Precedente', project=project).first()\n",
    "    annotations = SequenceAnnotation.objects.all().filter(document__in=documents, label=label_instance)\n",
    "    count[annotator] = annotations.count()\n",
    "count"
   ]
  },
  {
   "cell_type": "markdown",
   "metadata": {},
   "source": [
    "### Truncate Documents > 10K chars with no annotations"
   ]
  },
  {
   "cell_type": "markdown",
   "metadata": {},
   "source": [
    "* All projects where name endswith == \\[PRATICA_ETAPA_1\\]\n",
    "* All documents for those projects\n",
    "* All annotations so far for those documents\n",
    "* Create two sets (all_document_ids, document_ids_with_annotations)\n",
    "* Difference between sets\n",
    "* Filter len(documents.text) > 10k\n",
    "* Apply documents.txt[:10000]\n",
    "* Update these documents\n",
    "* Persist"
   ]
  },
  {
   "cell_type": "code",
   "execution_count": null,
   "metadata": {},
   "outputs": [],
   "source": [
    "user = User.objects.filter(username='181300008').first()"
   ]
  },
  {
   "cell_type": "code",
   "execution_count": null,
   "metadata": {},
   "outputs": [],
   "source": [
    "projects = Project.objects.all().filter(name__endswith='[PRATICA_ETAPA1]', users__username=user)"
   ]
  },
  {
   "cell_type": "code",
   "execution_count": null,
   "metadata": {},
   "outputs": [],
   "source": [
    "projects.count()"
   ]
  },
  {
   "cell_type": "code",
   "execution_count": null,
   "metadata": {},
   "outputs": [],
   "source": [
    "projects"
   ]
  },
  {
   "cell_type": "code",
   "execution_count": null,
   "metadata": {},
   "outputs": [],
   "source": [
    "documents = Document.objects.all().filter(project__in=projects)"
   ]
  },
  {
   "cell_type": "code",
   "execution_count": null,
   "metadata": {},
   "outputs": [],
   "source": [
    "documents.count()"
   ]
  },
  {
   "cell_type": "code",
   "execution_count": null,
   "metadata": {},
   "outputs": [],
   "source": [
    "annotations = SequenceAnnotation.objects.all().filter(document__in=documents)"
   ]
  },
  {
   "cell_type": "code",
   "execution_count": null,
   "metadata": {},
   "outputs": [],
   "source": [
    "annotations"
   ]
  },
  {
   "cell_type": "code",
   "execution_count": null,
   "metadata": {},
   "outputs": [],
   "source": [
    "documents_with_annotations = Document.objects.all().filter(id__in=[ann.document.id for ann in annotations])"
   ]
  },
  {
   "cell_type": "code",
   "execution_count": null,
   "metadata": {},
   "outputs": [],
   "source": [
    "documents_without_annotation = documents.difference(documents_with_annotations)"
   ]
  },
  {
   "cell_type": "code",
   "execution_count": null,
   "metadata": {},
   "outputs": [],
   "source": [
    "for document in documents_without_annotation:\n",
    "    d = Document.objects.get(pk=document.id)\n",
    "    if len(d.text) < 15000:\n",
    "        continue    \n",
    "    d_id = d.text.split('\\n')[-1]\n",
    "    d_text = d.text[:15000]\n",
    "    d_text = '\\n'.join(d_text.split(\"\\n\")[:-1])\n",
    "    d_text += '\\n%s' % (d_id)\n",
    "    d.text = d_text\n",
    "    d.save()"
   ]
  },
  {
   "cell_type": "markdown",
   "metadata": {},
   "source": [
    "### Filtering documents by last line id"
   ]
  },
  {
   "cell_type": "markdown",
   "metadata": {},
   "source": [
    "id: 20170906_ADI_5491_312653776 ; id: 20170801_ADI_5327_312309333 ; id: 20110825_MS_28447_629807\n",
    "\n",
    "user: vinicius"
   ]
  },
  {
   "cell_type": "code",
   "execution_count": null,
   "metadata": {},
   "outputs": [],
   "source": [
    "user = User.objects.filter(username='181300040').first()"
   ]
  },
  {
   "cell_type": "code",
   "execution_count": null,
   "metadata": {},
   "outputs": [],
   "source": [
    "projects = Project.objects.all().filter(name__endswith='[PRATICA_ETAPA1]', users__username=user)"
   ]
  },
  {
   "cell_type": "code",
   "execution_count": null,
   "metadata": {},
   "outputs": [],
   "source": [
    "projects"
   ]
  },
  {
   "cell_type": "code",
   "execution_count": null,
   "metadata": {},
   "outputs": [],
   "source": [
    "documents = Document.objects.all().filter(project__in=projects)"
   ]
  },
  {
   "cell_type": "code",
   "execution_count": null,
   "metadata": {},
   "outputs": [],
   "source": [
    "len(documents.filter(text__endswith='\\nid: 20110825_MS_28447_629807').first().text)"
   ]
  },
  {
   "cell_type": "markdown",
   "metadata": {},
   "source": [
    "### all annotations"
   ]
  },
  {
   "cell_type": "code",
   "execution_count": 3,
   "metadata": {},
   "outputs": [],
   "source": [
    "projects = Project.objects.all().filter(name__startswith='Documentos', name__endswith='[PRATICA_ETAPA1]')"
   ]
  },
  {
   "cell_type": "code",
   "execution_count": 4,
   "metadata": {},
   "outputs": [],
   "source": [
    "documents = Document.objects.all().filter(project__in=projects)"
   ]
  },
  {
   "cell_type": "code",
   "execution_count": 5,
   "metadata": {},
   "outputs": [],
   "source": [
    "labels = Label.objects.filter(project__in=projects, text__in=['Precedente', 'Doutrina'])"
   ]
  },
  {
   "cell_type": "code",
   "execution_count": 6,
   "metadata": {},
   "outputs": [],
   "source": [
    "annotations = SequenceAnnotation.objects.all().filter(document__in=documents, label__in=labels)"
   ]
  },
  {
   "cell_type": "code",
   "execution_count": null,
   "metadata": {},
   "outputs": [],
   "source": [
    "project.users.exclude(username__in=['admin', 'carla'])"
   ]
  },
  {
   "cell_type": "code",
   "execution_count": 29,
   "metadata": {},
   "outputs": [],
   "source": [
    "import hashlib\n",
    "\n",
    "DS = {}\n",
    "\n",
    "def parse_id_elasticsearch_from_text(text):\n",
    "    last_line = text.split('\\n')[-1]\n",
    "    id_ = last_line.split(': ')[-1]\n",
    "    \n",
    "    return id_\n",
    "\n",
    "for annotation in annotations:\n",
    "    \n",
    "    document = annotation.document\n",
    "    project = document.project\n",
    "    user = project.users.exclude(username__in=['admin', 'carla']).first()\n",
    "    \n",
    "    text = annotation.document.text\n",
    "    term = text[annotation.start_offset:annotation.end_offset]\n",
    "    term = term.strip()\n",
    "    \n",
    "    id_ = hashlib.sha256(term.encode('utf-8')).hexdigest()\n",
    "    id_elasticsearch = parse_id_elasticsearch_from_text(document.text)\n",
    "    \n",
    "    if id_ not in DS:\n",
    "        DS[id_] = {'present_in': [(user.username, id_elasticsearch, (annotation.start_offset, annotation.end_offset))], \n",
    "                   'label': annotation.label.text,                   \n",
    "                   'text': term,\n",
    "                   'version': 1}\n",
    "    else:\n",
    "        DS[id_]['present_in'].append((user.username, id_elasticsearch, (annotation.start_offset, annotation.end_offset)))"
   ]
  },
  {
   "cell_type": "code",
   "execution_count": 30,
   "metadata": {
    "scrolled": true
   },
   "outputs": [
    {
     "name": "stdout",
     "output_type": "stream",
     "text": [
      "{\n",
      "    \"d4624f6b5ef83e5f083a0c8aaa9b5cabfcf14f2849cacb9c3382de81030a86cb\": {\n",
      "        \"present_in\": [\n",
      "            [\n",
      "                \"181300028\",\n",
      "                \"20180621_RE_965048_314646389\",\n",
      "                [\n",
      "                    1725,\n",
      "                    1746\n",
      "                ]\n",
      "            ]\n",
      "        ],\n",
      "        \"label\": \"Precedente\",\n",
      "        \"text\": \"S\\u00famulas n\\u00bas 282 e 356\",\n",
      "        \"version\": 1\n",
      "    },\n",
      "    \"f0fd6fc1a6c9a3033af65871a1e4b54eb70f3bd2f2816ceb03e037a4141a317e\": {\n",
      "        \"present_in\": [\n",
      "            [\n",
      "                \"181300028\",\n",
      "                \"20180621_RE_965048_314646389\",\n",
      "                [\n",
      "                    1933,\n",
      "                    1957\n",
      "                ]\n",
      "            ]\n",
      "        ],\n",
      "        \"label\": \"Precedente\",\n",
      "        \"text\": \"S\\u00famulas 282 e 356 do STF\",\n",
      "        \"version\": 1\n",
      "    },\n",
      "    \"9eaa8738945f964d4d2836e97ce0322baf5548524396310cb3c412c27d2a31f8\": {\n",
      "        \"present_in\": [\n",
      "            [\n",
      "                \"181300028\",\n",
      "                \"20180621_RE_965048_314646389\",\n",
      "                [\n",
      "                    2194,\n",
      "                    2277\n",
      "                ]\n",
      "            ]\n",
      "        ],\n",
      "        \"label\": \"Precedente\",\n",
      "        \"text\": \"AI n\\u00ba 551.533/MG-AgR, Segunda Turma, Relator o Ministro Gilmar Mendes, DJ de 3/3/06\",\n",
      "        \"version\": 1\n",
      "    },\n",
      "    \"fa5b88ef9506bbe6e932e3b80b21819970d2c25f3954fd0cc4eeec33618b71ed\": {\n",
      "        \"present_in\": [\n",
      "            [\n",
      "                \"181300028\",\n",
      "                \"20180621_RE_965048_314646389\",\n",
      "                [\n",
      "                    3521,\n",
      "                    3612\n",
      "                ]\n",
      "            ]\n",
      "        ],\n",
      "        \"label\": \"Precedente\",\n",
      "        \"text\": \"RE n\\u00b0 631.111/GO-RG, Relator o Ministro Teori Zavascki, repercuss\\u00e3o geral julgada em 7/8/14\",\n",
      "        \"version\": 1\n",
      "    },\n",
      "    \"b6a183d9e1819dccc90dcb5c79324628056c633ae667e519f10b063af81fc23e\": {\n",
      "        \"present_in\": [\n",
      "            [\n",
      "                \"181300028\",\n",
      "                \"20110630_ADI_2944_627565\",\n",
      "                [\n",
      "                    2040,\n",
      "                    2089\n",
      "                ]\n",
      "            ],\n",
      "            [\n",
      "                \"171300044\",\n",
      "                \"20110630_ADI_2944_627565\",\n",
      "                [\n",
      "                    2040,\n",
      "                    2089\n",
      "                ]\n",
      "            ]\n",
      "        ],\n",
      "        \"label\": \"Precedente\",\n",
      "        \"text\": \"A\\u00c7\\u00c3O DIRETA DE INCONSTITUCIONALIDADE 2.944 PARAN\\u00c1\",\n",
      "        \"version\": 1\n",
      "    },\n",
      "    \"aa809686a0d503baf31a82eb0d04f401041283782218b863d1f955095925f21a\": {\n",
      "        \"present_in\": [\n",
      "            [\n",
      "                \"181300028\",\n",
      "                \"20180621_RE_965048_314646389\",\n",
      "                [\n",
      "                    5556,\n",
      "                    5678\n",
      "                ]\n",
      "            ]\n",
      "        ],\n",
      "        \"label\": \"Doutrina\",\n",
      "        \"text\": \"LEONEL, Ricardo de Barros. Manual do Processo Coletivo. 3. ed. S\\u00e3o Paulo: Editora Revista dos Tribunais, 2013, p. 188/189\",\n",
      "        \"version\": 1\n",
      "    },\n",
      "    \"3a81432e288aa989d24eb536984d9337fb7df888bf651b9e1472ff14aa72a188\": {\n",
      "        \"present_in\": [\n",
      "            [\n",
      "                \"181300028\",\n",
      "                \"20180516_HC_153864_314346530\",\n",
      "                [\n",
      "                    8739,\n",
      "                    9073\n",
      "                ]\n",
      "            ]\n",
      "        ],\n",
      "        \"label\": \"Doutrina\",\n",
      "        \"text\": \"Das escutas gravadas, percebe-se que WELLENGTON, n\\u00e3o s\\u00f3 buscou contatos na Pol\\u00edcia Federal, como no Poder Judici\\u00e1rio, tendo conversas com C\\u00e9sar Herman Rodrigues, que na \\u00e9poca, era agente da pol\\u00edcia federal, atuando como agente de seguran\\u00e7a do ent\\u00e3o juiz federal da 7 e Vara Criminal da Justi\\u00e7a Federal de S\\u00e3o Paulo, o Dr. Ali Mazloum.\",\n",
      "        \"version\": 1\n",
      "    },\n",
      "    \"ec2d0bdd6faa9b0fea6ea3898fc196fe017f16ae38f2907a066f0766a829ba82\": {\n",
      "        \"present_in\": [\n",
      "            [\n",
      "                \"171300044\",\n",
      "                \"20180619_ARE_862377_314609896\",\n",
      "                [\n",
      "                    2496,\n",
      "                    2801\n",
      "                ]\n",
      "            ]\n",
      "        ],\n",
      "        \"label\": \"Doutrina\",\n",
      "        \"text\": \"\\u201cCONSTITUCIONAL. MUNIC\\u00cdPIO. SERVI\\u00c7O FUNER\\u00c1RIO. C.F., art. 30, V. I. - Os servi\\u00e7os funer\\u00e1rios constituem servi\\u00e7os municipais, dado que dizem respeito com necessidades imediatas do Munic\\u00edpio. C.F., art. 30, V. II. - A\\u00e7\\u00e3o direta de inconstitucionalidade julgada procedente\\u201d (Tribunal Pleno, DJ de 31/10/03)\\u201d.\",\n",
      "        \"version\": 1\n",
      "    }\n",
      "}\n"
     ]
    }
   ],
   "source": [
    "import json\n",
    "\n",
    "print(json.dumps(DS, indent=4))"
   ]
  },
  {
   "cell_type": "markdown",
   "metadata": {},
   "source": [
    "### Persist data into elasticsearch index"
   ]
  },
  {
   "cell_type": "code",
   "execution_count": 31,
   "metadata": {},
   "outputs": [],
   "source": [
    "from elasticsearch import Elasticsearch, RequestsHttpConnection\n",
    "\n",
    "connection = Elasticsearch([{'host': 'aplcldrjvpr0017.acad.fgv.br', 'port': 9200}],\n",
    "                           connection_class=RequestsHttpConnection,\n",
    "                           http_auth=('admin', 'h1dr4!sen!2'),\n",
    "                           use_ssl=True,\n",
    "                           verify_certs=False,\n",
    "                           timeout=180)"
   ]
  },
  {
   "cell_type": "code",
   "execution_count": 32,
   "metadata": {},
   "outputs": [
    {
     "name": "stderr",
     "output_type": "stream",
     "text": [
      "/home/felipe/Projetos/doccano-fork/.venv/lib/python3.6/site-packages/urllib3/connectionpool.py:847: InsecureRequestWarning: Unverified HTTPS request is being made. Adding certificate verification is strongly advised. See: https://urllib3.readthedocs.io/en/latest/advanced-usage.html#ssl-warnings\n",
      "  InsecureRequestWarning)\n"
     ]
    },
    {
     "data": {
      "text/plain": [
       "True"
      ]
     },
     "execution_count": 32,
     "metadata": {},
     "output_type": "execute_result"
    }
   ],
   "source": [
    "connection.ping()"
   ]
  },
  {
   "cell_type": "code",
   "execution_count": 34,
   "metadata": {},
   "outputs": [],
   "source": [
    "connection.index?"
   ]
  },
  {
   "cell_type": "code",
   "execution_count": 33,
   "metadata": {
    "scrolled": true
   },
   "outputs": [
    {
     "name": "stdout",
     "output_type": "stream",
     "text": [
      "{\n",
      "    \"present_in\": [\n",
      "        [\n",
      "            \"181300028\",\n",
      "            \"20180621_RE_965048_314646389\",\n",
      "            [\n",
      "                1725,\n",
      "                1746\n",
      "            ]\n",
      "        ]\n",
      "    ],\n",
      "    \"text\": \"S\\u00famulas n\\u00bas 282 e 356\",\n",
      "    \"version\": 1\n",
      "}\n",
      "{\n",
      "    \"present_in\": [\n",
      "        [\n",
      "            \"181300028\",\n",
      "            \"20180621_RE_965048_314646389\",\n",
      "            [\n",
      "                1933,\n",
      "                1957\n",
      "            ]\n",
      "        ]\n",
      "    ],\n",
      "    \"text\": \"S\\u00famulas 282 e 356 do STF\",\n",
      "    \"version\": 1\n",
      "}\n",
      "{\n",
      "    \"present_in\": [\n",
      "        [\n",
      "            \"181300028\",\n",
      "            \"20180621_RE_965048_314646389\",\n",
      "            [\n",
      "                2194,\n",
      "                2277\n",
      "            ]\n",
      "        ]\n",
      "    ],\n",
      "    \"text\": \"AI n\\u00ba 551.533/MG-AgR, Segunda Turma, Relator o Ministro Gilmar Mendes, DJ de 3/3/06\",\n",
      "    \"version\": 1\n",
      "}\n",
      "{\n",
      "    \"present_in\": [\n",
      "        [\n",
      "            \"181300028\",\n",
      "            \"20180621_RE_965048_314646389\",\n",
      "            [\n",
      "                3521,\n",
      "                3612\n",
      "            ]\n",
      "        ]\n",
      "    ],\n",
      "    \"text\": \"RE n\\u00b0 631.111/GO-RG, Relator o Ministro Teori Zavascki, repercuss\\u00e3o geral julgada em 7/8/14\",\n",
      "    \"version\": 1\n",
      "}\n",
      "{\n",
      "    \"present_in\": [\n",
      "        [\n",
      "            \"181300028\",\n",
      "            \"20110630_ADI_2944_627565\",\n",
      "            [\n",
      "                2040,\n",
      "                2089\n",
      "            ]\n",
      "        ],\n",
      "        [\n",
      "            \"171300044\",\n",
      "            \"20110630_ADI_2944_627565\",\n",
      "            [\n",
      "                2040,\n",
      "                2089\n",
      "            ]\n",
      "        ]\n",
      "    ],\n",
      "    \"text\": \"A\\u00c7\\u00c3O DIRETA DE INCONSTITUCIONALIDADE 2.944 PARAN\\u00c1\",\n",
      "    \"version\": 1\n",
      "}\n",
      "{\n",
      "    \"present_in\": [\n",
      "        [\n",
      "            \"181300028\",\n",
      "            \"20180621_RE_965048_314646389\",\n",
      "            [\n",
      "                5556,\n",
      "                5678\n",
      "            ]\n",
      "        ]\n",
      "    ],\n",
      "    \"text\": \"LEONEL, Ricardo de Barros. Manual do Processo Coletivo. 3. ed. S\\u00e3o Paulo: Editora Revista dos Tribunais, 2013, p. 188/189\",\n",
      "    \"version\": 1\n",
      "}\n",
      "{\n",
      "    \"present_in\": [\n",
      "        [\n",
      "            \"181300028\",\n",
      "            \"20180516_HC_153864_314346530\",\n",
      "            [\n",
      "                8739,\n",
      "                9073\n",
      "            ]\n",
      "        ]\n",
      "    ],\n",
      "    \"text\": \"Das escutas gravadas, percebe-se que WELLENGTON, n\\u00e3o s\\u00f3 buscou contatos na Pol\\u00edcia Federal, como no Poder Judici\\u00e1rio, tendo conversas com C\\u00e9sar Herman Rodrigues, que na \\u00e9poca, era agente da pol\\u00edcia federal, atuando como agente de seguran\\u00e7a do ent\\u00e3o juiz federal da 7 e Vara Criminal da Justi\\u00e7a Federal de S\\u00e3o Paulo, o Dr. Ali Mazloum.\",\n",
      "    \"version\": 1\n",
      "}\n",
      "{\n",
      "    \"present_in\": [\n",
      "        [\n",
      "            \"171300044\",\n",
      "            \"20180619_ARE_862377_314609896\",\n",
      "            [\n",
      "                2496,\n",
      "                2801\n",
      "            ]\n",
      "        ]\n",
      "    ],\n",
      "    \"text\": \"\\u201cCONSTITUCIONAL. MUNIC\\u00cdPIO. SERVI\\u00c7O FUNER\\u00c1RIO. C.F., art. 30, V. I. - Os servi\\u00e7os funer\\u00e1rios constituem servi\\u00e7os municipais, dado que dizem respeito com necessidades imediatas do Munic\\u00edpio. C.F., art. 30, V. II. - A\\u00e7\\u00e3o direta de inconstitucionalidade julgada procedente\\u201d (Tribunal Pleno, DJ de 31/10/03)\\u201d.\",\n",
      "    \"version\": 1\n",
      "}\n"
     ]
    }
   ],
   "source": [
    "for id_, payload in DS.items():    \n",
    "    doc_type = payload.pop('label')\n",
    "    doc_type = doc_type.lower()\n",
    "    print(json.dumps(payload, indent=4))\n",
    "    # connection.index(index='annotations', doc_type=doc_type, id=id_, body=payload)"
   ]
  },
  {
   "cell_type": "code",
   "execution_count": null,
   "metadata": {},
   "outputs": [],
   "source": []
  }
 ],
 "metadata": {
  "kernelspec": {
   "display_name": "Python 3",
   "language": "python",
   "name": "python3"
  },
  "language_info": {
   "codemirror_mode": {
    "name": "ipython",
    "version": 3
   },
   "file_extension": ".py",
   "mimetype": "text/x-python",
   "name": "python",
   "nbconvert_exporter": "python",
   "pygments_lexer": "ipython3",
   "version": "3.6.7"
  }
 },
 "nbformat": 4,
 "nbformat_minor": 2
}
