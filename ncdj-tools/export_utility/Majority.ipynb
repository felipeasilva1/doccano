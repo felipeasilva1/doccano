{
 "cells": [
  {
   "cell_type": "code",
   "execution_count": 1,
   "metadata": {},
   "outputs": [],
   "source": [
    "import os\n",
    "import re\n",
    "import csv\n",
    "import json\n",
    "import math\n",
    "\n",
    "import pandas as pd\n",
    "   \n",
    "from collections import Counter"
   ]
  },
  {
   "cell_type": "code",
   "execution_count": 2,
   "metadata": {},
   "outputs": [],
   "source": [
    "def scan(basedir, phase='', doc_type=''):\n",
    "    \"\"\"\n",
    "    This function should scan the directories and create an data structure that\n",
    "    should have an key to a .ner file and all ocurrences of that file within that\n",
    "    basedir.\n",
    "    \"\"\"\n",
    "\n",
    "    output = {}\n",
    "\n",
    "    search_directory = os.path.join(phase, doc_type)\n",
    "\n",
    "    for root, _, leaves in os.walk(basedir):\n",
    "        if root.endswith(search_directory):\n",
    "            for leaf in leaves:\n",
    "                path = os.path.join(root, leaf)\n",
    "                output.update({leaf: [path]}) if leaf not in output else output[leaf].append(path)\n",
    "\n",
    "    return output"
   ]
  },
  {
   "cell_type": "code",
   "execution_count": 3,
   "metadata": {},
   "outputs": [],
   "source": [
    "def open_document_and_get_initial_tokens(filename):\n",
    "    \"\"\"\n",
    "    This function should return the initial tokens of the document. This will be used later to\n",
    "    indicates which annotation was the most agreed between peers.\n",
    "    \"\"\"\n",
    "\n",
    "    with open(filename, 'r') as fh:\n",
    "        csvreader = csv.reader(fh, delimiter=';')\n",
    "        output = [row for row in csvreader][1:]\n",
    "        \n",
    "    return output"
   ]
  },
  {
   "cell_type": "code",
   "execution_count": 4,
   "metadata": {},
   "outputs": [],
   "source": [
    "data = scan('./mock', 'treino_1', 'Documentos')"
   ]
  },
  {
   "cell_type": "code",
   "execution_count": 5,
   "metadata": {},
   "outputs": [],
   "source": [
    "D = {}\n",
    "document = '394.ner.csv'\n",
    "for annotator_file in data[document]:\n",
    "    annotator_id = annotator_file.split('/')[2]\n",
    "    annotator_payload = open_document_and_get_initial_tokens(annotator_file)\n",
    "    D.update({annotator_id: annotator_payload})"
   ]
  },
  {
   "cell_type": "code",
   "execution_count": 7,
   "metadata": {},
   "outputs": [],
   "source": [
    "df = pd.DataFrame()\n",
    "for key, value in D.items():\n",
    "    tokens, tags = zip(*value)\n",
    "    annotator_df = pd.DataFrame(data=[tags], columns=tokens, index=[key])    \n",
    "    df = pd.concat([df, annotator_df], axis=0)"
   ]
  },
  {
   "cell_type": "code",
   "execution_count": 9,
   "metadata": {},
   "outputs": [],
   "source": [
    "import math\n",
    "\n",
    "from collections import Counter\n",
    "\n",
    "number_of_annotators = 3\n",
    "\n",
    "for idx, column in enumerate(df.columns):    \n",
    "    counter = Counter(df.iloc[::,idx].values)\n",
    "    majority_vote = list(filter(lambda x: counter[x] >= math.floor(number_of_annotators / 2) + 1, counter))\n",
    "    df.iloc[::,idx] = majority_vote[0] if majority_vote else 'O'"
   ]
  },
  {
   "cell_type": "code",
   "execution_count": 13,
   "metadata": {},
   "outputs": [
    {
     "data": {
      "text/html": [
       "<div>\n",
       "<style scoped>\n",
       "    .dataframe tbody tr th:only-of-type {\n",
       "        vertical-align: middle;\n",
       "    }\n",
       "\n",
       "    .dataframe tbody tr th {\n",
       "        vertical-align: top;\n",
       "    }\n",
       "\n",
       "    .dataframe thead th {\n",
       "        text-align: right;\n",
       "    }\n",
       "</style>\n",
       "<table border=\"1\" class=\"dataframe\">\n",
       "  <thead>\n",
       "    <tr style=\"text-align: right;\">\n",
       "      <th></th>\n",
       "      <th>LTDA</th>\n",
       "      <th></th>\n",
       "      <th></th>\n",
       "      <th></th>\n",
       "      <th>DECISÃO</th>\n",
       "      <th>:</th>\n",
       "      <th></th>\n",
       "      <th></th>\n",
       "      <th></th>\n",
       "      <th>Vistos</th>\n",
       "      <th>...</th>\n",
       "      <th></th>\n",
       "      <th>2012</th>\n",
       "      <th></th>\n",
       "      <th></th>\n",
       "      <th></th>\n",
       "      <th>Ministro</th>\n",
       "      <th></th>\n",
       "      <th>DIAS</th>\n",
       "      <th></th>\n",
       "      <th>TOFFOLI</th>\n",
       "    </tr>\n",
       "  </thead>\n",
       "  <tbody>\n",
       "    <tr>\n",
       "      <th>191300901</th>\n",
       "      <td>O</td>\n",
       "      <td>O</td>\n",
       "      <td>O</td>\n",
       "      <td>O</td>\n",
       "      <td>O</td>\n",
       "      <td>O</td>\n",
       "      <td>O</td>\n",
       "      <td>O</td>\n",
       "      <td>O</td>\n",
       "      <td>O</td>\n",
       "      <td>...</td>\n",
       "      <td>O</td>\n",
       "      <td>O</td>\n",
       "      <td>O</td>\n",
       "      <td>O</td>\n",
       "      <td>O</td>\n",
       "      <td>B_Pessoa</td>\n",
       "      <td>I_Pessoa</td>\n",
       "      <td>I_Pessoa</td>\n",
       "      <td>I_Pessoa</td>\n",
       "      <td>I_Pessoa</td>\n",
       "    </tr>\n",
       "    <tr>\n",
       "      <th>171300044</th>\n",
       "      <td>O</td>\n",
       "      <td>O</td>\n",
       "      <td>O</td>\n",
       "      <td>O</td>\n",
       "      <td>O</td>\n",
       "      <td>O</td>\n",
       "      <td>O</td>\n",
       "      <td>O</td>\n",
       "      <td>O</td>\n",
       "      <td>O</td>\n",
       "      <td>...</td>\n",
       "      <td>O</td>\n",
       "      <td>O</td>\n",
       "      <td>O</td>\n",
       "      <td>O</td>\n",
       "      <td>O</td>\n",
       "      <td>B_Pessoa</td>\n",
       "      <td>I_Pessoa</td>\n",
       "      <td>I_Pessoa</td>\n",
       "      <td>I_Pessoa</td>\n",
       "      <td>I_Pessoa</td>\n",
       "    </tr>\n",
       "  </tbody>\n",
       "</table>\n",
       "<p>2 rows × 4251 columns</p>\n",
       "</div>"
      ],
      "text/plain": [
       "          LTDA    \\n \\n DECISÃO  :    \\n \\n Vistos    ...       2012    \\n \\n  \\\n",
       "191300901    O  O  O  O       O  O  O  O  O      O    ...     O    O  O  O  O   \n",
       "171300044    O  O  O  O       O  O  O  O  O      O    ...     O    O  O  O  O   \n",
       "\n",
       "           Ministro                DIAS             TOFFOLI  \n",
       "191300901  B_Pessoa  I_Pessoa  I_Pessoa  I_Pessoa  I_Pessoa  \n",
       "171300044  B_Pessoa  I_Pessoa  I_Pessoa  I_Pessoa  I_Pessoa  \n",
       "\n",
       "[2 rows x 4251 columns]"
      ]
     },
     "execution_count": 13,
     "metadata": {},
     "output_type": "execute_result"
    }
   ],
   "source": [
    "df"
   ]
  },
  {
   "cell_type": "code",
   "execution_count": 16,
   "metadata": {},
   "outputs": [],
   "source": [
    "df.filter?"
   ]
  },
  {
   "cell_type": "code",
   "execution_count": null,
   "metadata": {},
   "outputs": [],
   "source": []
  }
 ],
 "metadata": {
  "kernelspec": {
   "display_name": "Python 2",
   "language": "python",
   "name": "python2"
  },
  "language_info": {
   "codemirror_mode": {
    "name": "ipython",
    "version": 2
   },
   "file_extension": ".py",
   "mimetype": "text/x-python",
   "name": "python",
   "nbconvert_exporter": "python",
   "pygments_lexer": "ipython2",
   "version": "2.7.15"
  }
 },
 "nbformat": 4,
 "nbformat_minor": 2
}
