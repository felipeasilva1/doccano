{
 "cells": [
  {
   "cell_type": "markdown",
   "metadata": {},
   "source": [
    "<font size=5>**Verificação da Concordância na Primeira Etapa (Treinamento 1)**</font>\n",
    "\n",
    "Quantificar grau de entendimento entre os anotadores na primeira etapa de treinamento."
   ]
  },
  {
   "cell_type": "markdown",
   "metadata": {},
   "source": [
    "<font size=3>**Resultados Esperados**</font>"
   ]
  },
  {
   "cell_type": "markdown",
   "metadata": {},
   "source": [
    "1. Matriz com a concordância (kappa) entre anotadores, de tamanho n x n (sendo n o total de anotadores)."
   ]
  },
  {
   "cell_type": "markdown",
   "metadata": {},
   "source": [
    "2. Matriz com o percentual de concordância entre anotadores para cada label, de tamanho L x L (sendo L o total de labels)"
   ]
  },
  {
   "cell_type": "markdown",
   "metadata": {},
   "source": [
    "3. Lista anotadores que tiveram uma concordância média de kappa superior a 0.75"
   ]
  },
  {
   "cell_type": "markdown",
   "metadata": {},
   "source": [
    "A verificação de concordância é feita olhando a anotação token a token, como abaixo.\n",
    "\n",
    "<mark style=\"background: yellow; border-radius: 0.2em;margin:0.1em\">O</mark><mark style=\"background: yellow; border-radius: 0.2em;margin:0.1em\"> </mark><mark style=\"background: yellow; border-radius: 0.2em;margin:0.1em\">Plenário</mark><mark style=\"background: yellow; border-radius: 0.2em;margin:0.1em\"> </mark><mark style=\"background: yellow; border-radius: 0.2em;margin:0.1em\">desta</mark><mark style=\"background: yellow; border-radius: 0.2em;margin:0.1em\"> </mark><mark style=\"background: yellow; border-radius: 0.2em;margin:0.1em\">Corte</mark><mark style=\"background: yellow; border-radius: 0.2em;margin:0.1em\">,</mark><mark style=\"background: yellow; border-radius: 0.2em;margin:0.1em\"> </mark><mark style=\"background: yellow; border-radius: 0.2em;margin:0.1em\">em</mark><mark style=\"background: yellow; border-radius: 0.2em;margin:0.1em\"> </mark><mark style=\"background: yellow; border-radius: 0.2em;margin:0.1em\">24/11/2010</mark><mark style=\"background: yellow; border-radius: 0.2em;margin:0.1em\">,</mark><mark style=\"background: yellow; border-radius: 0.2em;margin:0.1em\"> </mark><mark style=\"background: yellow; border-radius: 0.2em;margin:0.1em\">no</mark><mark style=\"background: yellow; border-radius: 0.2em;margin:0.1em\"> </mark><mark style=\"background: yellow; border-radius: 0.2em;margin:0.1em\">julgamento</mark><mark style=\"background: yellow; border-radius: 0.2em;margin:0.1em\"> </mark><mark style=\"background: yellow; border-radius: 0.2em;margin:0.1em\">da</mark><mark style=\"background: yellow; border-radius: 0.2em;margin:0.1em\"> </mark><mark style=\"background: yellow; border-radius: 0.2em;margin:0.1em\">ADC</mark><mark style=\"background: yellow; border-radius: 0.2em;margin:0.1em\"> </mark><mark style=\"background: yellow; border-radius: 0.2em;margin:0.1em\">nº</mark><mark style=\"background: yellow; border-radius: 0.2em;margin:0.1em\"> </mark><mark style=\"background: yellow; border-radius: 0.2em;margin:0.1em\">16/DF</mark><mark style=\"background: yellow; border-radius: 0.2em;margin:0.1em\">,</mark><mark style=\"background: yellow; border-radius: 0.2em;margin:0.1em\"> </mark><mark style=\"background: yellow; border-radius: 0.2em;margin:0.1em\">Relator</mark><mark style=\"background: yellow; border-radius: 0.2em;margin:0.1em\"> </mark><mark style=\"background: yellow; border-radius: 0.2em;margin:0.1em\">o</mark><mark style=\"background: yellow; border-radius: 0.2em;margin:0.1em\"> </mark><mark style=\"background: yellow; border-radius: 0.2em;margin:0.1em\">Ministro</mark><mark style=\"background: yellow; border-radius: 0.2em;margin:0.1em\"> </mark><mark style=\"background: yellow; border-radius: 0.2em;margin:0.1em\">Cezar</mark><mark style=\"background: yellow; border-radius: 0.2em;margin:0.1em\"> </mark>...\n",
    "\n",
    "$\\;\\downarrow\\;\\downarrow\\quad\\;\\downarrow\\quad\\;\\downarrow\\quad\\downarrow\\quad\\downarrow\\quad\\downarrow \\dots$\n",
    "\n",
    "<mark style=\"background: yellow; border-radius: 0.2em;margin:0.1em\">O</mark><mark style=\"background: yellow; border-radius: 0.2em;margin:0.1em\"> </mark><mark style=\"background: yellow; border-radius: 0.2em;margin:0.1em\">Plenário</mark><mark style=\"background: yellow; border-radius: 0.2em;margin:0.1em\"> </mark><mark style=\"background: yellow; border-radius: 0.2em;margin:0.1em\">desta</mark><mark style=\"background: yellow; border-radius: 0.2em;margin:0.1em\"> </mark><mark style=\"background: yellow; border-radius: 0.2em;margin:0.1em\">Corte</mark><mark style=\"background: yellow; border-radius: 0.2em;margin:0.1em\">,</mark><mark style=\"background: yellow; border-radius: 0.2em;margin:0.1em\"> </mark><mark style=\"background: yellow; border-radius: 0.2em;margin:0.1em\">em</mark><mark style=\"background: yellow; border-radius: 0.2em;margin:0.1em\"> </mark><mark style=\"background: yellow; border-radius: 0.2em;margin:0.1em\">24/11/2010</mark><mark style=\"background: yellow; border-radius: 0.2em;margin:0.1em\">,</mark><mark style=\"background: yellow; border-radius: 0.2em;margin:0.1em\"> </mark><mark style=\"background: yellow; border-radius: 0.2em;margin:0.1em\">no</mark><mark style=\"background: yellow; border-radius: 0.2em;margin:0.1em\"> </mark><mark style=\"background: yellow; border-radius: 0.2em;margin:0.1em\">julgamento</mark><mark style=\"background: yellow; border-radius: 0.2em;margin:0.1em\"> </mark><mark style=\"background: yellow; border-radius: 0.2em;margin:0.1em\">da</mark><mark style=\"background: yellow; border-radius: 0.2em;margin:0.1em\"> </mark><mark style=\"background: yellow; border-radius: 0.2em;margin:0.1em\">ADC</mark><mark style=\"background: yellow; border-radius: 0.2em;margin:0.1em\"> </mark><mark style=\"background: yellow; border-radius: 0.2em;margin:0.1em\">nº</mark><mark style=\"background: yellow; border-radius: 0.2em;margin:0.1em\"> </mark><mark style=\"background: yellow; border-radius: 0.2em;margin:0.1em\">16/DF</mark><mark style=\"background: yellow; border-radius: 0.2em;margin:0.1em\">,</mark><mark style=\"background: yellow; border-radius: 0.2em;margin:0.1em\"> </mark><mark style=\"background: yellow; border-radius: 0.2em;margin:0.1em\">Relator</mark><mark style=\"background: yellow; border-radius: 0.2em;margin:0.1em\"> </mark><mark style=\"background: yellow; border-radius: 0.2em;margin:0.1em\">o</mark><mark style=\"background: yellow; border-radius: 0.2em;margin:0.1em\"> </mark><mark style=\"background: yellow; border-radius: 0.2em;margin:0.1em\">Ministro</mark><mark style=\"background: yellow; border-radius: 0.2em;margin:0.1em\"> </mark><mark style=\"background: yellow; border-radius: 0.2em;margin:0.1em\">Cezar</mark><mark style=\"background: yellow; border-radius: 0.2em;margin:0.1em\"> </mark>..."
   ]
  },
  {
   "cell_type": "markdown",
   "metadata": {},
   "source": [
    "Porém, a maior parte dos tokens não terá uma tag (equivalente a 'O'), o que faz com que, se só olharmos token a token cada tag, a concordância entre dois anotadores será inflada pois em grande parte do texto, a decisão de \"não anotar\" é simples.\n",
    "<br>\n",
    "<br>\n",
    "<br>\n",
    "<center>\n",
    "O Plenário desta Corte, em 24/11/2010, no julgamento da <mark style=\"background: cyan; border-radius: 0.2em;margin:0.1em\">ADC nº 16/DF, Relator o Ministro Cezar </mark>...</center>\n",
    "<br>\n",
    "<center>\n",
    "    O Plenário desta Corte, em 24/11/2010, no julgamento da <mark style=\"background: cyan; border-radius: 0.2em;margin:0.1em\">ADC nº 16/DF</mark>, Relator o <mark style=\"background:#7cf708; border-radius: 0.2em;margin:0.1em\">Ministro Cezar </mark>...</center>\n",
    "<br>\n",
    "<br>"
   ]
  },
  {
   "cell_type": "markdown",
   "metadata": {},
   "source": [
    "Removeremos todos os tokens onde não se tem tag definida por nenhum dos dois anotadores analisados para tentar evitar isso.\n",
    "<br>\n",
    "<br>\n",
    "<br>\n",
    "<center>\n",
    "<div style=\"width:380px;height:20px;border:1px solid #000;display:inline-block;\">\n",
    "O Plenário desta Corte, em 24/11/2010, no julgamento da </div><mark style=\"background: cyan; border-radius: 0.2em;margin:0.1em\">ADC nº 16/DF, Relator o Ministro Cezar </mark>...</center>\n",
    "<br>\n",
    "<center>\n",
    "<div style=\"width:380px;height:20px;border:1px solid #000;display:inline-block;\">\n",
    "    O Plenário desta Corte, em 24/11/2010, no julgamento da </div><mark style=\"background: cyan; border-radius: 0.2em;margin:0.1em\">ADC nº 16/DF</mark>, Relator o <mark style=\"background:#7cf708; border-radius: 0.2em;margin:0.1em\">Ministro Cezar </mark>...</center>\n",
    "<br>\n",
    "$$ \\Big\\Downarrow $$\n",
    "<br>\n",
    "<center>\n",
    "<mark style=\"background: cyan; border-radius: 0.2em;margin:0.1em\">ADC nº 16/DF, Relator o Ministro Cezar </mark>...</center>\n",
    "<br>\n",
    "<center>\n",
    "<mark style=\"background: cyan; border-radius: 0.2em;margin:0.1em\">ADC nº 16/DF</mark>, Relator o <mark style=\"background:#7cf708; border-radius: 0.2em;margin:0.1em\">Ministro Cezar </mark>...</center>"
   ]
  },
  {
   "cell_type": "markdown",
   "metadata": {},
   "source": [
    "<font size=3>**Definições**</font>"
   ]
  },
  {
   "cell_type": "markdown",
   "metadata": {},
   "source": [
    "Seja uma matriz de confusão entre anotadores A e B com 3 categorias, como abaixo\n",
    "\n",
    "\\begin{matrix}\n",
    "    &B(1)&B(2)&B(3)\\\\\n",
    "A(1)&a_{11}&a_{12}&a_{13}\\\\\n",
    "A(2)&a_{21}&a_{22}&a_{23}\\\\\n",
    "A(3)&a_{31}&a_{32}&a_{33}\n",
    "\\end{matrix} "
   ]
  },
  {
   "cell_type": "markdown",
   "metadata": {},
   "source": [
    "<font size=3>**Percentual de concordância por label**</font>\n",
    "\n",
    "Percentual de concordância por label (x,y) é o percentual do total de classificações onde A anotou label x e B anotou label y.\n",
    "\n",
    "(Ou seja, a matriz de concordância por label é a matriz de confusão normalizada)"
   ]
  },
  {
   "cell_type": "markdown",
   "metadata": {},
   "source": [
    "<font size=3>**Cohens Kappa**</font>\n",
    "\n",
    "$$ \\kappa = \\frac{p_o - p_e}{1 - p_e} $$\n",
    "\n",
    "- $p_e$ é a probabilidade de concordarem por sorte\n",
    "- $p_o$ é a percentual total de concordância"
   ]
  },
  {
   "cell_type": "markdown",
   "metadata": {},
   "source": [
    "<font size=3>**Exemplo**</font>\n",
    "\n",
    "Seja $ \\mathcal{M} $  a matriz de confusão mostrada acima. Podemos calcular todas as métricas de interesse.\n",
    "<br>\n",
    "<br>\n",
    "<center>Percentual total de concordância</center>\n",
    "$$ p_o = \\frac{Trace(\\mathcal{M})}{\\sum_{i,j}a_{i,j}} $$\n",
    "<br>\n",
    "<br>\n",
    "<center> A probabilidade de A e B concordarem por sorte ao categorizar como label (2) é</center>\n",
    "\n",
    "$$ p_{2A}\\cdot p_{2B}$$\n",
    "<br>\n",
    "<center>Onde</center>\n",
    "\n",
    "$$ p_{2A} = \\frac{a_{2,1}+a_{2,2}+a_{2,3}}{\\sum_{i,j}a_{i,j}} $$\n",
    "\n",
    "$$ p_{2B} = \\frac{a_{1,2}+a_{2,2}+a_{3,2}}{\\sum_{i,j}a_{i,j}} $$\n",
    "<br>\n",
    "<br>\n",
    "<center>A probabilidade de A e B concordarem por sorte num item qualquer é a soma da probabilidade de A e B concordarem em 1, em 2 e em 3:</center>\n",
    "$$ p_e = p_{1A}p_{1B} + p_{2A}p_{2B} + p_{3A}p_{3B}$$"
   ]
  },
  {
   "cell_type": "code",
   "execution_count": 1,
   "metadata": {},
   "outputs": [],
   "source": [
    "import os\n",
    "import glob\n",
    "import matplotlib.pyplot as plt\n",
    "import numpy as np\n",
    "import pandas as pd\n",
    "import scipy\n",
    "import seaborn as sns\n",
    "from sklearn.metrics import confusion_matrix\n",
    "import tqdm"
   ]
  },
  {
   "cell_type": "markdown",
   "metadata": {},
   "source": [
    "<font size=5>**0. Funções Auxiliares**</font>"
   ]
  },
  {
   "cell_type": "code",
   "execution_count": 2,
   "metadata": {},
   "outputs": [],
   "source": [
    "# def preprocessing(data):\n",
    "#     Mover B_  com Token vazio para linha abaixo\n",
    "#     begins = combined_csv[(combined_csv['Token']==' ') & \n",
    "#                       (combined_csv['Tag'].str.startswith('B_'))].index.values\n",
    "    \n",
    "#     Mover o último I_  com Token vazio para linha acima\n",
    "#     código\n",
    "#     begins = combined_csv[(combined_csv['Token']==' ') & \n",
    "#                       (combined_csv['Tag'].str.startswith('B_'))].index.values"
   ]
  },
  {
   "cell_type": "code",
   "execution_count": 3,
   "metadata": {},
   "outputs": [],
   "source": [
    "def tag_num(y):\n",
    "    \"\"\"\n",
    "    Função para transformar vetor de tags complexas em vetor de labels numéricos.\n",
    "    \"\"\"\n",
    "    \n",
    "    # Lista de todas as tags possíveis\n",
    "    tags = ['O', 'B_Precedente', 'I_Precedente', 'B_Ref. Legislativa',\n",
    "       'I_Ref. Legislativa', 'B_Pessoa', 'I_Pessoa', 'B_Doutrina',\n",
    "       'I_Doutrina', 'B_Doutrinador', 'I_Doutrinador']\n",
    "    \n",
    "    # Montando uma correspondência entre tags e posição na matrix de confusão\n",
    "    tags_dict = {y:x for (x,y) in enumerate(tags)}\n",
    "    \n",
    "    # Como \"Doutrinador\" era o termo usado para \"Doutrina\" no treino 1, vamos igualar os dois\n",
    "    tags_dict['B_Doutrinador'] = tags_dict['B_Doutrina']\n",
    "    tags_dict['I_Doutrinador'] = tags_dict['I_Doutrina']\n",
    "    \n",
    "    # Vetor com labels numéricos no lugar das tags\n",
    "    y_new = np.vectorize(tags_dict.get)(y)\n",
    "    \n",
    "    return y_new"
   ]
  },
  {
   "cell_type": "code",
   "execution_count": 4,
   "metadata": {},
   "outputs": [],
   "source": [
    "def conf_matrix(y1, y2):\n",
    "    \"\"\"\n",
    "    Função para montar a matrix de confusão entre vetores de classificação y1 e y2\n",
    "    \"\"\"\n",
    "    \n",
    "    # Macete usado pelo sklearn: ao montar matrizes esparsas COO com scipy, \n",
    "    # índices repetidos da matriz são somados na montagem\n",
    "    weight = np.ones(len(y1))\n",
    "    confusion = scipy.sparse.coo_matrix((weight, (y1, y2)), shape=(9, 9))\n",
    "    \n",
    "    return np.array(confusion.toarray())"
   ]
  },
  {
   "cell_type": "code",
   "execution_count": 5,
   "metadata": {},
   "outputs": [],
   "source": [
    "def cohen_kappa_token(confusion_matrix):\n",
    "    \"\"\"\n",
    "    Função para cálculo do Cohen's Kappa a partir de uma matriz de confusão\n",
    "    \"\"\"\n",
    "    \n",
    "    # Calculando o Cohen's Kappa\n",
    "    total = confusion_matrix.sum() # Total de Tokens avaliados\n",
    "    po = np.trace(confusion_matrix)/total # Percentagem relativa de concordância\n",
    "    \n",
    "    # Vetor de probabilidades de 1 e de 2\n",
    "    p1 = confusion_matrix.sum(axis=1)/total # Soma das classificações nas linhas\n",
    "    p2 = confusion_matrix.sum(axis=0)/total # Soma das classificações nas colunas\n",
    "    \n",
    "    # Calculando a chance de 1 e 2 concordarem por sorte\n",
    "    pe = np.dot(p1, p2)\n",
    "    \n",
    "    # Calculando Cohen's Kappa\n",
    "    kappa = (po-pe)/(1.0-pe)\n",
    "    \n",
    "    return kappa"
   ]
  },
  {
   "cell_type": "code",
   "execution_count": 6,
   "metadata": {},
   "outputs": [],
   "source": [
    "def percentual_total(confusion_matrix):\n",
    "    \"\"\"\n",
    "    Função para cálculo do percentual de concordância total a partir de uma matriz de confusão\n",
    "    \"\"\"\n",
    "    \n",
    "    #Calculando a concordância percentual total\n",
    "    total = confusion_matrix.sum() # Total de Tokens avaliados\n",
    "    po = np.trace(confusion_matrix)/total # Percentagem relativa de concordância\n",
    "    \n",
    "    return po"
   ]
  },
  {
   "cell_type": "code",
   "execution_count": 7,
   "metadata": {},
   "outputs": [],
   "source": [
    "def analise_dados(y1, y2):\n",
    "    \"\"\"\n",
    "    Função para agrupar todas as análises necessárias\n",
    "    \"\"\"\n",
    "    \n",
    "    # Passar as tags para descrição numérica de labels\n",
    "    y1n = tag_num(y1)\n",
    "    y2n = tag_num(y2)\n",
    "    \n",
    "    # Montar a matriz de confusão\n",
    "    confusion_matrix = conf_matrix(y1n, y2n)\n",
    "    \n",
    "    # Calculando cohen's kappa, percentuais totais e por label\n",
    "    kappa = cohen_kappa_token(confusion_matrix)\n",
    "    concord_percent = percentual_total(confusion_matrix)\n",
    "    \n",
    "    return kappa, concord_percent, confusion_matrix"
   ]
  },
  {
   "cell_type": "markdown",
   "metadata": {},
   "source": [
    "# Pegando arquivos de dados"
   ]
  },
  {
   "cell_type": "markdown",
   "metadata": {},
   "source": [
    "Vamos assumir que todos os dados com a anotação de cada arquivo se encontram em:\n",
    "\n",
    "<center><font color='red' >./dados/*/treino_1/Documentos/**.csv</font></center>\n",
    "\n",
    "Que são os arquivos de anotação dos quatro textos. No lugar de * , entra o login do aluno, enquanto que no lugar de ** entra cada arquivo anotado pelo aluno. "
   ]
  },
  {
   "cell_type": "code",
   "execution_count": 8,
   "metadata": {},
   "outputs": [],
   "source": [
    "# Pegando uma lista de todos os alunos que fizeram a anotação\n",
    "students = glob.glob('dados/*')\n",
    "\n",
    "# Salvando o número de alunos anotadores\n",
    "size = len(students)"
   ]
  },
  {
   "cell_type": "code",
   "execution_count": 9,
   "metadata": {},
   "outputs": [],
   "source": [
    "# Folder do treino 1\n",
    "etapa = '/pratica_etapa_1/Documentos/'"
   ]
  },
  {
   "cell_type": "markdown",
   "metadata": {},
   "source": [
    "# Calculando as métricas"
   ]
  },
  {
   "cell_type": "code",
   "execution_count": 10,
   "metadata": {
    "scrolled": true
   },
   "outputs": [
    {
     "data": {
      "application/vnd.jupyter.widget-view+json": {
       "model_id": "9ed56604894248a4a64f6c4321ba1a39",
       "version_major": 2,
       "version_minor": 0
      },
      "text/plain": [
       "HBox(children=(IntProgress(value=0, max=55), HTML(value='')))"
      ]
     },
     "metadata": {},
     "output_type": "display_data"
    },
    {
     "name": "stdout",
     "output_type": "stream",
     "text": [
      "Aluno 181300039 e aluno 181300040 não possuem arquivos de anotação em comum\n",
      "Aluno 181300039 e aluno 181300904 não possuem arquivos de anotação em comum\n",
      "Aluno 181300039 e aluno 182300301 não possuem arquivos de anotação em comum\n",
      "Aluno 181300039 e aluno 181300037 não possuem arquivos de anotação em comum\n",
      "Aluno 181300039 e aluno 171300044 não possuem arquivos de anotação em comum\n",
      "Aluno 181300039 e aluno 181300030 não possuem arquivos de anotação em comum\n",
      "Aluno 181300039 e aluno guilherme não possuem arquivos de anotação em comum\n",
      "Aluno 181300039 e aluno 181300026 não possuem arquivos de anotação em comum\n",
      "Aluno 181300039 e aluno 181300059 não possuem arquivos de anotação em comum\n",
      "Aluno 181300039 e aluno 181300014 não possuem arquivos de anotação em comum\n",
      "Aluno 181300039 e aluno 181300055 não possuem arquivos de anotação em comum\n",
      "Aluno 181300039 e aluno 182300904 não possuem arquivos de anotação em comum\n",
      "Aluno 181300039 e aluno 181300036 não possuem arquivos de anotação em comum\n",
      "Aluno 181300039 e aluno 181300006 não possuem arquivos de anotação em comum\n",
      "\n"
     ]
    },
    {
     "ename": "ValueError",
     "evalue": "operands could not be broadcast together with shapes (2806,) (3283,) ",
     "output_type": "error",
     "traceback": [
      "\u001b[0;31m---------------------------------------------------------------------------\u001b[0m",
      "\u001b[0;31mValueError\u001b[0m                                Traceback (most recent call last)",
      "\u001b[0;32m<ipython-input-10-97db1602e8bb>\u001b[0m in \u001b[0;36m<module>\u001b[0;34m\u001b[0m\n\u001b[1;32m     37\u001b[0m \u001b[0;34m\u001b[0m\u001b[0m\n\u001b[1;32m     38\u001b[0m             \u001b[0;31m# Pegando os índices dos vetores onde não temos \"sem anotação\" para ambos\u001b[0m\u001b[0;34m\u001b[0m\u001b[0;34m\u001b[0m\u001b[0;34m\u001b[0m\u001b[0m\n\u001b[0;32m---> 39\u001b[0;31m             \u001b[0mind\u001b[0m \u001b[0;34m=\u001b[0m \u001b[0;34m(\u001b[0m\u001b[0mtags_1_now\u001b[0m \u001b[0;34m!=\u001b[0m \u001b[0;34m'O'\u001b[0m\u001b[0;34m)\u001b[0m \u001b[0;34m|\u001b[0m \u001b[0;34m(\u001b[0m\u001b[0mtags_2_now\u001b[0m \u001b[0;34m!=\u001b[0m \u001b[0;34m'O'\u001b[0m\u001b[0;34m)\u001b[0m\u001b[0;34m\u001b[0m\u001b[0;34m\u001b[0m\u001b[0m\n\u001b[0m\u001b[1;32m     40\u001b[0m \u001b[0;34m\u001b[0m\u001b[0m\n\u001b[1;32m     41\u001b[0m             \u001b[0;31m# Filtrando os vetores de Tags\u001b[0m\u001b[0;34m\u001b[0m\u001b[0;34m\u001b[0m\u001b[0;34m\u001b[0m\u001b[0m\n",
      "\u001b[0;31mValueError\u001b[0m: operands could not be broadcast together with shapes (2806,) (3283,) "
     ]
    }
   ],
   "source": [
    "# Inicializando as variáveis na memória onde salvar os resultados\n",
    "kappa_matrix = np.zeros((size,size))\n",
    "percent_matrix = np.zeros((size,size))\n",
    "conf_matrices = {}\n",
    "\n",
    "# Percorrendo todos os possíveis pares de alunos\n",
    "for n in tqdm.tqdm_notebook(range(size)):\n",
    "    for m in range(size):     \n",
    "        \n",
    "        # Pegando os arquivos anotados por cada um dos dois alunos do par\n",
    "        files_1 = [i.split('/')[-1] for i in glob.glob(students[n]+etapa+'*.csv')]\n",
    "        files_2 = [i.split('/')[-1] for i in glob.glob(students[m]+etapa+'*.csv')]\n",
    "            \n",
    "        # Inicializando o vetor de tags\n",
    "        Tags1 = np.array([])\n",
    "        Tags2 = np.array([])\n",
    "        \n",
    "        # Para cada arquivo anotado pelo aluno 1\n",
    "        for doc in files_1:\n",
    "            \n",
    "            # Buscamos se o aluno 2 anotou aquele arquivo\n",
    "            if not doc in files_2:\n",
    "                # Se não, vamos para o próximo arquivo\n",
    "                continue\n",
    "\n",
    "            # Se havia arquivos em comum, pegamos em um dataframe as anotações do aluno 1\n",
    "            filename1 = students[n]+etapa+doc\n",
    "            df1_temp = pd.read_csv(filename1, delimiter=';', na_values='NaN')\n",
    "            \n",
    "            # Se havia arquivos em comum, pegamos em um dataframe as anotações do aluno 1\n",
    "            filename2 = students[m]+etapa+doc\n",
    "            df2_temp = pd.read_csv(filename2, delimiter=';', na_values='NaN')\n",
    "        \n",
    "            # Pegando o vetor de tags da vez (assume-se tokens na mesma ordem para dado arquivo)\n",
    "            tags_1_now = df1_temp.loc[:, 'Tag'].values\n",
    "            tags_2_now = df2_temp.loc[:, 'Tag'].values\n",
    "        \n",
    "            # Pegando os índices dos vetores onde não temos \"sem anotação\" para ambos\n",
    "            ind = (tags_1_now != 'O') | (tags_2_now != 'O')\n",
    "        \n",
    "            # Filtrando os vetores de Tags\n",
    "            tags_1_now = tags_1_now[ind]\n",
    "            tags_2_now = tags_2_now[ind]\n",
    "        \n",
    "            # Concatenando o vetor de tags da vez com os antigos\n",
    "            Tags1 = np.concatenate((Tags1, tags_1_now), axis=0)\n",
    "            Tags2 = np.concatenate((Tags2, tags_2_now), axis=0)\n",
    "\n",
    "        if Tags1.size == 0:\n",
    "            print(\"Aluno \"+students[n].split('/')[-1]+\n",
    "                  \" e aluno \"+students[m].split('/')[-1]+\n",
    "                  \" não possuem arquivos de anotação em comum\")\n",
    "            conf_matrices[(n,m)] = [students[n].split('/')[-1], students[m].split('/')[-1], np.array([])]\n",
    "            continue\n",
    "        \n",
    "        # Calculando as concordâncias caso hajam arquivos em comum\n",
    "        k, percent, matriz_labels = analise_dados(Tags1, Tags2)\n",
    "        \n",
    "        # Salvando os resultados\n",
    "        kappa_matrix[n, m] = k\n",
    "        percent_matrix[n, m] = percent\n",
    "        conf_matrices[(n,m)] = [students[n].split('/')[-1], students[m].split('/')[-1], matriz_labels]"
   ]
  },
  {
   "cell_type": "markdown",
   "metadata": {},
   "source": [
    "## Visualizando resultados"
   ]
  },
  {
   "cell_type": "code",
   "execution_count": null,
   "metadata": {},
   "outputs": [],
   "source": [
    "# Plotando a matriz de kappas sem legenda\n",
    "# Abrindo a figura e o eixo\n",
    "fig, ax = plt.subplots(figsize=(4,4))\n",
    "\n",
    "# Desenhando o heatmap\n",
    "# sns.heatmap(kappa_matrix, annot=True, ax=ax, xticklabels=ticks, yticklabels=ticks, square=True, cmap='Blues')\n",
    "sns.heatmap(kappa_matrix, annot=False, ax=ax, xticklabels=[], yticklabels=[], square=True, cmap='Blues')\n",
    "\n",
    "# Definindo título dos eixos\n",
    "ax.set_title('Matriz de Kappas')\n",
    "ax.set_ylabel('FROM')\n",
    "ax.set_xlabel('TO')\n",
    "\n",
    "#Mostrando o gráfico\n",
    "plt.show()"
   ]
  },
  {
   "cell_type": "code",
   "execution_count": null,
   "metadata": {},
   "outputs": [],
   "source": [
    "# Plotando a matriz de kappas com legenda\n",
    "# Abrindo a figura e o eixo\n",
    "fig, ax = plt.subplots(figsize=(20,20))\n",
    "\n",
    "# Pegando só a matricula dos alunos\n",
    "ticks = [i.split('/')[-1] for i in students]\n",
    "\n",
    "# Desenhando o heatmap\n",
    "# sns.heatmap(kappa_matrix, annot=True, ax=ax, xticklabels=ticks, yticklabels=ticks, square=True, cmap='Blues')\n",
    "sns.heatmap(kappa_matrix, annot=False, ax=ax, xticklabels=ticks, yticklabels=ticks, square=True, cmap='Blues')\n",
    "\n",
    "# Definindo título dos eixos\n",
    "ax.set_title('Matriz de Kappas')\n",
    "ax.set_ylabel('FROM')\n",
    "ax.set_xlabel('TO')\n",
    "\n",
    "#Mostrando o gráfico\n",
    "plt.show()"
   ]
  },
  {
   "cell_type": "code",
   "execution_count": null,
   "metadata": {},
   "outputs": [],
   "source": [
    "# Plotando a matriz de percentagens\n",
    "# Abrindo a figura e o eixo\n",
    "fig, ax = plt.subplots(figsize=(20,20))\n",
    "\n",
    "# Pegando só a matricula dos alunos\n",
    "ticks = [i.split('/')[-1] for i in students]\n",
    "\n",
    "# Desenhando o heatmap\n",
    "# sns.heatmap(percent_matrix, annot=True,  ax=ax, xticklabels=ticks, yticklabels=ticks, square=True, cmap='Blues')\n",
    "sns.heatmap(percent_matrix, annot=False,  ax=ax, xticklabels=ticks, yticklabels=ticks, square=True, cmap='Blues')\n",
    "\n",
    "# Definindo título dos eixos\n",
    "ax.set_title('Matriz de Porcentagens')\n",
    "ax.set_ylabel('FROM')\n",
    "ax.set_xlabel('TO')\n",
    "\n",
    "#Mostrando o gráfico\n",
    "plt.show()"
   ]
  },
  {
   "cell_type": "code",
   "execution_count": null,
   "metadata": {
    "scrolled": true
   },
   "outputs": [],
   "source": [
    "# # Plotando as matrizes de confusão\n",
    "# # Tentando percorrer os pares de alunos sem repetição\n",
    "# for n in range(size):\n",
    "#     for m in range(n+1, size):\n",
    "        \n",
    "#         # Pegando a matriz de confusão\n",
    "#         lista = conf_matrices[(n,m)]\n",
    "        \n",
    "#         # Criando figura\n",
    "#         fig, ax = plt.subplots(figsize=(6,6))\n",
    "\n",
    "#         # Pegando as tags usadas\n",
    "#         ticks = ['O', 'B_Precedente', 'I_Precedente', 'B_Ref. Legislativa',\n",
    "#        'I_Ref. Legislativa', 'B_Pessoa', 'I_Pessoa', 'B_Doutrina',\n",
    "#        'I_Doutrina']\n",
    "        \n",
    "#         # Definindo título do gráfico de acordo com o par de alunos olhado\n",
    "#         plt.title(lista[0]+' x '+lista[1])\n",
    "        \n",
    "#         # Fazendo o gráfico\n",
    "#         if lista[2].size != 0:\n",
    "#             sns.heatmap(lista[2].astype(int), ax=ax, xticklabels=ticks, yticklabels=ticks, cmap='Greys', annot=True, fmt='d')\n",
    "#         else:\n",
    "#             print(0)\n",
    "            \n",
    "#         # Mostrando inline\n",
    "#         plt.show()"
   ]
  },
  {
   "cell_type": "markdown",
   "metadata": {},
   "source": [
    "# Ordenando por kappa médio"
   ]
  },
  {
   "cell_type": "code",
   "execution_count": null,
   "metadata": {},
   "outputs": [],
   "source": [
    "av_kappas = []\n",
    "for n in range(size):\n",
    "    av_kappas.append((kappa_matrix[n, :].mean(), students[n].split('/')[-1], n)) \n",
    "    \n",
    "av_kappas.sort(key=lambda x: x[0])\n",
    "av_kappas = av_kappas[::-1]"
   ]
  },
  {
   "cell_type": "code",
   "execution_count": null,
   "metadata": {
    "scrolled": true
   },
   "outputs": [],
   "source": [
    "av_kappas"
   ]
  },
  {
   "cell_type": "markdown",
   "metadata": {},
   "source": [
    "## Como mudaria o visual dos kappas se reorganizássemos?"
   ]
  },
  {
   "cell_type": "code",
   "execution_count": null,
   "metadata": {},
   "outputs": [],
   "source": [
    "new_order = [n[2] for n in av_kappas]"
   ]
  },
  {
   "cell_type": "code",
   "execution_count": null,
   "metadata": {},
   "outputs": [],
   "source": [
    "reorganize_kappa = kappa_matrix[:, new_order][new_order]"
   ]
  },
  {
   "cell_type": "code",
   "execution_count": null,
   "metadata": {},
   "outputs": [],
   "source": [
    "# Plotando a matriz de kappas sem legenda\n",
    "# Abrindo a figura e o eixo\n",
    "fig, ax = plt.subplots(figsize=(6,6))\n",
    "\n",
    "# Desenhando o heatmap\n",
    "# sns.heatmap(reorganize_kappa, annot=True, ax=ax, xticklabels=ticks, yticklabels=ticks, square=True, cmap='Blues')\n",
    "sns.heatmap(reorganize_kappa, annot=False, ax=ax, xticklabels=[], yticklabels=[], square=True, cmap='Blues')\n",
    "\n",
    "# Definindo título dos eixos\n",
    "ax.set_title('Matriz de Kappas reorganizada')\n",
    "ax.set_ylabel('FROM')\n",
    "ax.set_xlabel('TO')\n",
    "\n",
    "#Mostrando o gráfico\n",
    "plt.show()"
   ]
  },
  {
   "cell_type": "markdown",
   "metadata": {},
   "source": [
    "## Vendo a estatística dos kappas"
   ]
  },
  {
   "cell_type": "code",
   "execution_count": null,
   "metadata": {},
   "outputs": [],
   "source": [
    "stds = np.array([reorganize_kappa[n, :].std() for n in range(size)])\n",
    "avs = np.array([n[0] for n in av_kappas])"
   ]
  },
  {
   "cell_type": "code",
   "execution_count": null,
   "metadata": {},
   "outputs": [],
   "source": [
    "fig, ax = plt.subplots(figsize=(10,6))\n",
    "plt.plot(list(range(size)), avs, '.')\n",
    "for n in np.linspace(3, 1, 3):\n",
    "    plt.fill_between(list(range(size)), avs+n*stds, avs-n*stds, color='grey', alpha=0.2)"
   ]
  },
  {
   "cell_type": "code",
   "execution_count": null,
   "metadata": {},
   "outputs": [],
   "source": [
    "sns.distplot(reorganize_kappa[0,:], color='Blue')\n",
    "sns.kdeplot(reorganize_kappa[1,:], shade=True, color='orange')\n",
    "sns.kdeplot(reorganize_kappa[2,:], shade=True, color='green')\n",
    "sns.kdeplot(reorganize_kappa[3,:], shade=True, color='cyan')\n",
    "sns.distplot(reorganize_kappa[4,:], color='red')"
   ]
  },
  {
   "cell_type": "code",
   "execution_count": null,
   "metadata": {},
   "outputs": [],
   "source": [
    "fig, ax = plt.subplots(figsize=(20,20))\n",
    "for n in range(5):\n",
    "    sns.kdeplot(reorganize_kappa[n,:], shade=True, shade_lowest=False)"
   ]
  },
  {
   "cell_type": "code",
   "execution_count": null,
   "metadata": {},
   "outputs": [],
   "source": [
    "fig, ax = plt.subplots(figsize=(20,20))\n",
    "for n in range(6, 30):\n",
    "    sns.kdeplot(reorganize_kappa[n,:], shade=True)"
   ]
  },
  {
   "cell_type": "code",
   "execution_count": null,
   "metadata": {},
   "outputs": [],
   "source": []
  },
  {
   "cell_type": "code",
   "execution_count": null,
   "metadata": {},
   "outputs": [],
   "source": []
  }
 ],
 "metadata": {
  "kernelspec": {
   "display_name": "Python 3",
   "language": "python",
   "name": "python3"
  },
  "language_info": {
   "codemirror_mode": {
    "name": "ipython",
    "version": 3
   },
   "file_extension": ".py",
   "mimetype": "text/x-python",
   "name": "python",
   "nbconvert_exporter": "python",
   "pygments_lexer": "ipython3",
   "version": "3.7.3"
  },
  "toc": {
   "base_numbering": 1,
   "nav_menu": {},
   "number_sections": true,
   "sideBar": true,
   "skip_h1_title": false,
   "title_cell": "Table of Contents",
   "title_sidebar": "Contents",
   "toc_cell": false,
   "toc_position": {},
   "toc_section_display": true,
   "toc_window_display": false
  }
 },
 "nbformat": 4,
 "nbformat_minor": 2
}
