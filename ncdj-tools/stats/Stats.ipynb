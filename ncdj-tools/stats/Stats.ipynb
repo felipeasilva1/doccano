{
 "cells": [
  {
   "cell_type": "markdown",
   "metadata": {},
   "source": [
    "## Core modules"
   ]
  },
  {
   "cell_type": "code",
   "execution_count": 1,
   "metadata": {},
   "outputs": [],
   "source": [
    "import os\n",
    "import sys \n",
    "import django"
   ]
  },
  {
   "cell_type": "markdown",
   "metadata": {},
   "source": [
    "## Django/Doccano setup and imports"
   ]
  },
  {
   "cell_type": "code",
   "execution_count": 2,
   "metadata": {},
   "outputs": [],
   "source": [
    "sys.path.append(os.path.abspath('../../app'))\n",
    "os.environ.setdefault('DJANGO_SETTINGS_MODULE', 'app.settings')\n",
    "django.setup()\n",
    "\n",
    "from django.contrib.auth.models import User\n",
    "from django.shortcuts import get_object_or_404\n",
    "from server.models import Project, SequenceLabelingProject,\\\n",
    "Label, SequenceAnnotation, Document"
   ]
  },
  {
   "cell_type": "markdown",
   "metadata": {},
   "source": [
    "### Annotators identifiers"
   ]
  },
  {
   "cell_type": "code",
   "execution_count": 3,
   "metadata": {},
   "outputs": [],
   "source": [
    "with open('../creation-pipeline/data/annotators.old.csv', 'r') as fh:\n",
    "    content = fh.readlines()"
   ]
  },
  {
   "cell_type": "code",
   "execution_count": 4,
   "metadata": {},
   "outputs": [],
   "source": [
    "identifiers = [line.split(',')[1] for line in content[1:]]"
   ]
  },
  {
   "cell_type": "markdown",
   "metadata": {},
   "source": [
    "### Annotations per user"
   ]
  },
  {
   "cell_type": "code",
   "execution_count": 5,
   "metadata": {},
   "outputs": [
    {
     "data": {
      "text/plain": [
       "{'181300028': 0,\n",
       " '171300044': 0,\n",
       " '191300901': 0,\n",
       " '181300053': 0,\n",
       " '181300039': 0,\n",
       " '171300023': 0,\n",
       " '181300026': 0,\n",
       " '181300052': 0,\n",
       " '181300005': 0,\n",
       " '181300038': 0,\n",
       " '171300045': 0,\n",
       " '191300709': 12,\n",
       " '182300901': 0,\n",
       " '181300062': 0,\n",
       " '181300019': 0,\n",
       " '181300040': 0,\n",
       " '181300029': 0,\n",
       " '171300018': 0,\n",
       " '181300055': 0,\n",
       " '181300059': 0,\n",
       " '181300025': 0,\n",
       " '181300001': 0,\n",
       " '181300060': 0,\n",
       " '181300018': 0,\n",
       " '181300006': 0,\n",
       " '181300033': 0,\n",
       " '182300301': 0,\n",
       " '181300023': 0,\n",
       " '181300022': 0,\n",
       " '181300037': 0,\n",
       " '181300034': 0,\n",
       " '181300071': 0,\n",
       " '181300003': 0,\n",
       " '181300501': 0,\n",
       " '181300024': 0,\n",
       " '182300904': 0,\n",
       " '181300030': 0,\n",
       " '181300008': 0,\n",
       " '171300011': 0,\n",
       " '181300014': 0,\n",
       " '181300904': 0,\n",
       " '181300036': 0,\n",
       " '181300020': 0,\n",
       " '161704902': 0,\n",
       " '181300041': 0,\n",
       " '181300068': 0,\n",
       " '172300501': 0,\n",
       " '181300072': 0,\n",
       " '181300004': 0,\n",
       " 'igor': 0}"
      ]
     },
     "execution_count": 5,
     "metadata": {},
     "output_type": "execute_result"
    }
   ],
   "source": [
    "count = {}\n",
    "for annotator in identifiers:\n",
    "    user = User.objects.filter(username=annotator).first()\n",
    "    project = Project.objects.all().filter(users__username=user).first()\n",
    "    project_id = project.id\n",
    "    documents = Document.objects.all().filter(project=project)\n",
    "    annotations = SequenceAnnotation.objects.all().filter(document__in=documents)\n",
    "    count[annotator] = annotations.count()\n",
    "count"
   ]
  },
  {
   "cell_type": "markdown",
   "metadata": {},
   "source": [
    "### Annotations by label"
   ]
  },
  {
   "cell_type": "code",
   "execution_count": 9,
   "metadata": {},
   "outputs": [
    {
     "data": {
      "text/plain": [
       "{'181300028': 0,\n",
       " '171300044': 0,\n",
       " '191300901': 0,\n",
       " '181300053': 0,\n",
       " '181300039': 0,\n",
       " '171300023': 0,\n",
       " '181300026': 0,\n",
       " '181300052': 0,\n",
       " '181300005': 0,\n",
       " '181300038': 0,\n",
       " '171300045': 0,\n",
       " '191300709': 9,\n",
       " '182300901': 0,\n",
       " '181300062': 0,\n",
       " '181300019': 0,\n",
       " '181300040': 0,\n",
       " '181300029': 0,\n",
       " '171300018': 0,\n",
       " '181300055': 0,\n",
       " '181300059': 0,\n",
       " '181300025': 0,\n",
       " '181300001': 0,\n",
       " '181300060': 0,\n",
       " '181300018': 0,\n",
       " '181300006': 0,\n",
       " '181300033': 0,\n",
       " '182300301': 0,\n",
       " '181300023': 0,\n",
       " '181300022': 0,\n",
       " '181300037': 0,\n",
       " '181300034': 0,\n",
       " '181300071': 0,\n",
       " '181300003': 0,\n",
       " '181300501': 0,\n",
       " '181300024': 0,\n",
       " '182300904': 0,\n",
       " '181300030': 0,\n",
       " '181300008': 0,\n",
       " '171300011': 0,\n",
       " '181300014': 0,\n",
       " '181300904': 0,\n",
       " '181300036': 0,\n",
       " '181300020': 0,\n",
       " '161704902': 0,\n",
       " '181300041': 0,\n",
       " '181300068': 0,\n",
       " '172300501': 0,\n",
       " '181300072': 0,\n",
       " '181300004': 0,\n",
       " 'igor': 0}"
      ]
     },
     "execution_count": 9,
     "metadata": {},
     "output_type": "execute_result"
    }
   ],
   "source": [
    "count = {}\n",
    "for annotator in identifiers:\n",
    "    user = User.objects.filter(username=annotator).first()\n",
    "    project = Project.objects.all().filter(users__username=user).first()    \n",
    "    documents = Document.objects.all().filter(project=project)\n",
    "    label_instance = Label.objects.filter(text='Precedente', project=project).first()\n",
    "    annotations = SequenceAnnotation.objects.all().filter(document__in=documents, label=label_instance)\n",
    "    count[annotator] = annotations.count()\n",
    "count"
   ]
  }
 ],
 "metadata": {
  "kernelspec": {
   "display_name": "Python 3",
   "language": "python",
   "name": "python3"
  },
  "language_info": {
   "codemirror_mode": {
    "name": "ipython",
    "version": 3
   },
   "file_extension": ".py",
   "mimetype": "text/x-python",
   "name": "python",
   "nbconvert_exporter": "python",
   "pygments_lexer": "ipython3",
   "version": "3.6.7"
  }
 },
 "nbformat": 4,
 "nbformat_minor": 2
}
