{
 "cells": [
  {
   "cell_type": "markdown",
   "metadata": {},
   "source": [
    "<font size=5>**Verificação da Concordância na Primeira Etapa (Treinamento 1)**</font>\n",
    "\n",
    "Quantificar grau de entendimento entre os anotadores na primeira etapa de treinamento."
   ]
  },
  {
   "cell_type": "markdown",
   "metadata": {},
   "source": [
    "<font size=3>**Resultados Esperados**</font>"
   ]
  },
  {
   "cell_type": "markdown",
   "metadata": {},
   "source": [
    "1. Matriz com a concordância (kappa) entre anotadores, de tamanho n x n (sendo n o total de anotadores)."
   ]
  },
  {
   "cell_type": "markdown",
   "metadata": {},
   "source": [
    "2. Matriz com o percentual de concordância entre anotadores para cada label, de tamanho L x L (sendo L o total de labels)"
   ]
  },
  {
   "cell_type": "markdown",
   "metadata": {},
   "source": [
    "3. Lista anotadores que tiveram uma concordância média de kappa superior a 0.75"
   ]
  },
  {
   "cell_type": "markdown",
   "metadata": {},
   "source": [
    "A verificação de concordância é feita olhando a anotação token a token, como abaixo.\n",
    "\n",
    "<mark style=\"background: cyan; border-radius: 0.2em;margin:0.1em\">O</mark><mark style=\"background: cyan; border-radius: 0.2em;margin:0.1em\"> </mark><mark style=\"background: cyan; border-radius: 0.2em;margin:0.1em\">Plenário</mark><mark style=\"background: cyan; border-radius: 0.2em;margin:0.1em\"> </mark><mark style=\"background: cyan; border-radius: 0.2em;margin:0.1em\">desta</mark><mark style=\"background: cyan; border-radius: 0.2em;margin:0.1em\"> </mark><mark style=\"background: cyan; border-radius: 0.2em;margin:0.1em\">Corte</mark><mark style=\"background: cyan; border-radius: 0.2em;margin:0.1em\">,</mark><mark style=\"background: cyan; border-radius: 0.2em;margin:0.1em\"> </mark><mark style=\"background: cyan; border-radius: 0.2em;margin:0.1em\">em</mark><mark style=\"background: cyan; border-radius: 0.2em;margin:0.1em\"> </mark><mark style=\"background: cyan; border-radius: 0.2em;margin:0.1em\">24/11/2010</mark><mark style=\"background: cyan; border-radius: 0.2em;margin:0.1em\">,</mark><mark style=\"background: cyan; border-radius: 0.2em;margin:0.1em\"> </mark><mark style=\"background: cyan; border-radius: 0.2em;margin:0.1em\">no</mark><mark style=\"background: cyan; border-radius: 0.2em;margin:0.1em\"> </mark><mark style=\"background: cyan; border-radius: 0.2em;margin:0.1em\">julgamento</mark><mark style=\"background: cyan; border-radius: 0.2em;margin:0.1em\"> </mark><mark style=\"background: cyan; border-radius: 0.2em;margin:0.1em\">da</mark><mark style=\"background: cyan; border-radius: 0.2em;margin:0.1em\"> </mark><mark style=\"background: cyan; border-radius: 0.2em;margin:0.1em\">ADC</mark><mark style=\"background: cyan; border-radius: 0.2em;margin:0.1em\"> </mark><mark style=\"background: cyan; border-radius: 0.2em;margin:0.1em\">nº</mark><mark style=\"background: cyan; border-radius: 0.2em;margin:0.1em\"> </mark><mark style=\"background: cyan; border-radius: 0.2em;margin:0.1em\">16/DF</mark><mark style=\"background: cyan; border-radius: 0.2em;margin:0.1em\">,</mark><mark style=\"background: cyan; border-radius: 0.2em;margin:0.1em\"> </mark><mark style=\"background: cyan; border-radius: 0.2em;margin:0.1em\">Relator</mark><mark style=\"background: cyan; border-radius: 0.2em;margin:0.1em\"> </mark><mark style=\"background: cyan; border-radius: 0.2em;margin:0.1em\">o</mark><mark style=\"background: cyan; border-radius: 0.2em;margin:0.1em\"> </mark><mark style=\"background: cyan; border-radius: 0.2em;margin:0.1em\">Ministro</mark><mark style=\"background: cyan; border-radius: 0.2em;margin:0.1em\"> </mark><mark style=\"background: cyan; border-radius: 0.2em;margin:0.1em\">Cezar</mark><mark style=\"background: cyan; border-radius: 0.2em;margin:0.1em\"> </mark>\n",
    "\n",
    "$\\;\\downarrow\\;\\downarrow\\quad\\;\\downarrow\\quad\\;\\downarrow\\quad\\downarrow \\dots$\n",
    "\n",
    "<mark style=\"background: orange; border-radius: 0.2em;margin:0.1em\">O</mark><mark style=\"background: orange; border-radius: 0.2em;margin:0.1em\"> </mark><mark style=\"background: orange; border-radius: 0.2em;margin:0.1em\">Plenário</mark><mark style=\"background: orange; border-radius: 0.2em;margin:0.1em\"> </mark><mark style=\"background: orange; border-radius: 0.2em;margin:0.1em\">desta</mark><mark style=\"background: orange; border-radius: 0.2em;margin:0.1em\"> </mark><mark style=\"background: orange; border-radius: 0.2em;margin:0.1em\">Corte</mark><mark style=\"background: orange; border-radius: 0.2em;margin:0.1em\">,</mark><mark style=\"background: orange; border-radius: 0.2em;margin:0.1em\"> </mark><mark style=\"background: orange; border-radius: 0.2em;margin:0.1em\">em</mark><mark style=\"background: orange; border-radius: 0.2em;margin:0.1em\"> </mark><mark style=\"background: orange; border-radius: 0.2em;margin:0.1em\">24/11/2010</mark><mark style=\"background: orange; border-radius: 0.2em;margin:0.1em\">,</mark><mark style=\"background: orange; border-radius: 0.2em;margin:0.1em\"> </mark><mark style=\"background: orange; border-radius: 0.2em;margin:0.1em\">no</mark><mark style=\"background: orange; border-radius: 0.2em;margin:0.1em\"> </mark><mark style=\"background: orange; border-radius: 0.2em;margin:0.1em\">julgamento</mark><mark style=\"background: orange; border-radius: 0.2em;margin:0.1em\"> </mark><mark style=\"background: orange; border-radius: 0.2em;margin:0.1em\">da</mark><mark style=\"background: orange; border-radius: 0.2em;margin:0.1em\"> </mark><mark style=\"background: orange; border-radius: 0.2em;margin:0.1em\">ADC</mark><mark style=\"background: orange; border-radius: 0.2em;margin:0.1em\"> </mark><mark style=\"background: orange; border-radius: 0.2em;margin:0.1em\">nº</mark><mark style=\"background: orange; border-radius: 0.2em;margin:0.1em\"> </mark><mark style=\"background: orange; border-radius: 0.2em;margin:0.1em\">16/DF</mark><mark style=\"background: orange; border-radius: 0.2em;margin:0.1em\">,</mark><mark style=\"background: orange; border-radius: 0.2em;margin:0.1em\"> </mark><mark style=\"background: orange; border-radius: 0.2em;margin:0.1em\">Relator</mark><mark style=\"background: orange; border-radius: 0.2em;margin:0.1em\"> </mark><mark style=\"background: orange; border-radius: 0.2em;margin:0.1em\">o</mark><mark style=\"background: orange; border-radius: 0.2em;margin:0.1em\"> </mark><mark style=\"background: orange; border-radius: 0.2em;margin:0.1em\">Ministro</mark><mark style=\"background: orange; border-radius: 0.2em;margin:0.1em\"> </mark><mark style=\"background: orange; border-radius: 0.2em;margin:0.1em\">Cezar</mark><mark style=\"background: orange; border-radius: 0.2em;margin:0.1em\"> </mark>"
   ]
  },
  {
   "cell_type": "markdown",
   "metadata": {},
   "source": [
    "<font size=3>**Definições**</font>"
   ]
  },
  {
   "cell_type": "markdown",
   "metadata": {},
   "source": [
    "Seja uma matriz de confusão entre anotadores A e B com 3 categorias, como abaixo\n",
    "\n",
    "\\begin{matrix}\n",
    "    &B(1)&B(2)&B(3)\\\\\n",
    "A(1)&a_{11}&a_{12}&a_{13}\\\\\n",
    "A(2)&a_{21}&a_{22}&a_{23}\\\\\n",
    "A(3)&a_{31}&a_{32}&a_{33}\n",
    "\\end{matrix} "
   ]
  },
  {
   "cell_type": "markdown",
   "metadata": {},
   "source": [
    "<font size=3>**Percentual de concordância por label**</font>\n",
    "\n",
    "Percentual de concordância por label (x,y) é o percentual do total de classificações onde A anotou label x e B anotou label y.\n",
    "\n",
    "(Ou seja, a matriz de concordância por label é a matriz de confusão normalizada)"
   ]
  },
  {
   "cell_type": "markdown",
   "metadata": {},
   "source": [
    "<font size=3>**Cohens Kappa**</font>\n",
    "\n",
    "$$ \\kappa = \\frac{p_o - p_e}{1 - p_e} $$\n",
    "\n",
    "- $p_e$ é a probabilidade de concordarem por sorte\n",
    "- $p_o$ é a percentual total de concordância"
   ]
  },
  {
   "cell_type": "markdown",
   "metadata": {},
   "source": [
    "<font size=3>**Exemplo**</font>\n",
    "\n",
    "Seja $ \\mathcal{M} $  a matriz de confusão mostrada acima. Podemos calcular todas as métricas de interesse.\n",
    "<br>\n",
    "<br>\n",
    "<center>Percentual total de concordância</center>\n",
    "$$ p_o = \\frac{Trace(\\mathcal{M})}{\\sum_{i,j}a_{i,j}} $$\n",
    "<br>\n",
    "<br>\n",
    "<center> A probabilidade de A e B concordarem por sorte ao categorizar como label (2) é</center>\n",
    "\n",
    "$$ p_{2A}\\cdot p_{2B}$$\n",
    "<br>\n",
    "<center>Onde</center>\n",
    "\n",
    "$$ p_{2A} = \\frac{a_{2,1}+a_{2,2}+a_{2,3}}{\\sum_{i,j}a_{i,j}} $$\n",
    "\n",
    "$$ p_{2B} = \\frac{a_{1,2}+a_{2,2}+a_{3,2}}{\\sum_{i,j}a_{i,j}} $$\n",
    "<br>\n",
    "<br>\n",
    "<center>A probabilidade de A e B concordarem por sorte num item qualquer é a soma da probabilidade de A e B concordarem em 1, em 2 e em 3:</center>\n",
    "$$ p_e = p_{1A}p_{1B} + p_{2A}p_{2B} + p_{3A}p_{3B}$$"
   ]
  },
  {
   "cell_type": "code",
   "execution_count": 1,
   "metadata": {},
   "outputs": [],
   "source": [
    "import os\n",
    "import glob\n",
    "import matplotlib.pyplot as plt\n",
    "import numpy as np\n",
    "import pandas as pd\n",
    "import scipy\n",
    "import seaborn as sns\n",
    "from sklearn.metrics import confusion_matrix"
   ]
  },
  {
   "cell_type": "markdown",
   "metadata": {},
   "source": [
    "<font size=5>**0. Funções Auxiliares**</font>"
   ]
  },
  {
   "cell_type": "code",
   "execution_count": 132,
   "metadata": {},
   "outputs": [],
   "source": [
    "def tag_num(y):\n",
    "    \"\"\"\n",
    "    Função para transformar vetor de tags complexas em vetor de labels numéricos.\n",
    "    \"\"\"\n",
    "    \n",
    "    # Lista de todas as tags possíveis\n",
    "    tags = ['O', 'B_Precedente', 'I_Precedente', 'B_Ref. Legislativa',\n",
    "       'I_Ref. Legislativa', 'B_Pessoa', 'I_Pessoa', 'B_Doutrinador',\n",
    "       'I_Doutrinador']\n",
    "    \n",
    "    # Montando uma correspondência entre tags e posição na matrix de confusão\n",
    "    tags_dict = {y:x for (x,y) in enumerate(tags)}\n",
    "    \n",
    "    # Vetor com labels numéricos no lugar da \n",
    "    y_new = np.vectorize(tags_dict.get)(y)\n",
    "    \n",
    "    return y_new"
   ]
  },
  {
   "cell_type": "code",
   "execution_count": 133,
   "metadata": {},
   "outputs": [],
   "source": [
    "def conf_matrix(y1, y2):\n",
    "    \"\"\"\n",
    "    Função para montar a matrix de confusão entre vetores de classificação y1 e y2\n",
    "    \"\"\"\n",
    "    \n",
    "    # Macete usado pelo sklearn: ao montar matrizes esparsas COO com scipy, \n",
    "    # índices repetidos da matriz são somados na montagem\n",
    "    weight = np.ones(len(y1))\n",
    "    confusion = scipy.sparse.coo_matrix((weight, (y1, y2)), shape=(9, 9))\n",
    "    \n",
    "    return np.array(confusion.toarray())"
   ]
  },
  {
   "cell_type": "code",
   "execution_count": 134,
   "metadata": {},
   "outputs": [],
   "source": [
    "def cohen_kappa_token(confusion_matrix):\n",
    "    \"\"\"\n",
    "    Função para cálculo do Cohen's Kappa a partir de uma matriz de confusão\n",
    "    \"\"\"\n",
    "    \n",
    "    # Calculando o Cohen's Kappa\n",
    "    total = confusion_matrix.sum() # Total de Tokens avaliados\n",
    "    po = np.trace(confusion_matrix)/total # Percentagem relativa de concordância\n",
    "    \n",
    "    # Vetor de probabilidades de 1 e de 2\n",
    "    p1 = confusion_matrix.sum(axis=1)/total # Soma das classificações nas linhas\n",
    "    p2 = confusion_matrix.sum(axis=0)/total # Soma das classificações nas colunas\n",
    "    \n",
    "    # Calculando a chance de 1 e 2 concordarem por sorte\n",
    "    pe = np.dot(p1, p2)\n",
    "    \n",
    "    # Calculando Cohen's Kappa\n",
    "    kappa = (po-pe)/(1.0-pe)\n",
    "    \n",
    "    return kappa"
   ]
  },
  {
   "cell_type": "code",
   "execution_count": 135,
   "metadata": {},
   "outputs": [],
   "source": [
    "def percentual_by_label(confusion_matrix):\n",
    "    \"\"\"\n",
    "    Função para cálculo do percentual de concordância por label a partir de uma matriz de confusão\n",
    "    \"\"\"\n",
    "    \n",
    "    # Calculo do percentual por label\n",
    "    label_percentual = confusion_matrix/confusion_matrix.sum()\n",
    "    \n",
    "    return label_percentual"
   ]
  },
  {
   "cell_type": "code",
   "execution_count": 136,
   "metadata": {},
   "outputs": [],
   "source": [
    "def percentual_total(confusion_matrix):\n",
    "    \"\"\"\n",
    "    Função para cálculo do percentual de concordância total a partir de uma matriz de confusão\n",
    "    \"\"\"\n",
    "    \n",
    "    #Calculando a concordância percentual total\n",
    "    total = confusion_matrix.sum() # Total de Tokens avaliados\n",
    "    po = np.trace(confusion_matrix)/total # Percentagem relativa de concordância\n",
    "    \n",
    "    return np.trace(confusion_matrix)"
   ]
  },
  {
   "cell_type": "code",
   "execution_count": 137,
   "metadata": {},
   "outputs": [],
   "source": [
    "def analise_dados(y1, y2):\n",
    "    \n",
    "    y1n = tag_num(y1)\n",
    "    y2n = tag_num(y2)\n",
    "    \n",
    "    confusion_matrix = conf_matrix(y1n, y2n)\n",
    "    \n",
    "    kappa = cohen_kappa_token(confusion_matrix)\n",
    "    label_percentuais = percentual_by_label(confusion_matrix)\n",
    "    concord_percent = percentual_total(confusion_matrix)\n",
    "    \n",
    "    return kappa, concord_percent, label_percentuais"
   ]
  },
  {
   "cell_type": "markdown",
   "metadata": {},
   "source": [
    "# Pegando arquivos de dados"
   ]
  },
  {
   "cell_type": "markdown",
   "metadata": {},
   "source": [
    "Vamos assumir que todos os dados com a anotação de cada arquivo se encontram em:\n",
    "\n",
    "<center><font color='red' >./dados/*/treino_1/Documentos/combinado.csv</font></center>\n",
    "\n",
    "Que são os arquivos de anotação dos quatro textos já combinados em um único csv. No lugar do asterico, temos o número de matrícula dos alunos."
   ]
  },
  {
   "cell_type": "code",
   "execution_count": 2,
   "metadata": {},
   "outputs": [],
   "source": [
    "# Encontra todos os csv's do treino dentro das pastas de 'mock'\n",
    "extension = 'csv'\n",
    "all_filenames = [i for i in glob.glob('mock/*/treino_1/Documentos/combinado.csv')]"
   ]
  },
  {
   "cell_type": "code",
   "execution_count": 3,
   "metadata": {},
   "outputs": [],
   "source": [
    "all_filenames.sort()\n",
    "size = len(all_filenames)"
   ]
  },
  {
   "cell_type": "markdown",
   "metadata": {},
   "source": [
    "## Calculando as métricas"
   ]
  },
  {
   "cell_type": "code",
   "execution_count": 138,
   "metadata": {
    "scrolled": true
   },
   "outputs": [
    {
     "data": {
      "text/plain": [
       "<matplotlib.axes._subplots.AxesSubplot at 0x7fc5945b9898>"
      ]
     },
     "execution_count": 138,
     "metadata": {},
     "output_type": "execute_result"
    },
    {
     "data": {
      "image/png": "[encoded data removed]",
      "text/plain": [
       "<Figure size 216x216 with 2 Axes>"
      ]
     },
     "metadata": {
      "needs_background": "light"
     },
     "output_type": "display_data"
    }
   ],
   "source": [
    "kappa_matrix = np.zeros((size,size))\n",
    "percent_matrix = np.zeros((size,size))\n",
    "conf_matrices = []\n",
    "\n",
    "for n in range(size):\n",
    "    for m in range(size):\n",
    "\n",
    "        df1_temp = pd.read_csv(all_filenames[n], delimiter=';', na_values='NaN')\n",
    "        df2_temp = pd.read_csv(all_filenames[m], delimiter=';', na_values='NaN')\n",
    "        \n",
    "        Tags1 = df1_temp.loc[:, 'Tag'].values\n",
    "        Tags2 = df2_temp.loc[:, 'Tag'].values\n",
    "        \n",
    "        k, percent, matriz_labels = analise_dados(Tags1, Tags2)\n",
    "        \n",
    "        kappa_matrix[dic_pos[n], dic_pos[m]] = k\n",
    "        percent_matrix[dic_pos[n], dic_pos[m]] = percent\n",
    "        conf_matrices.append(matriz_labels)\n",
    "        \n",
    "fig, ax = plt.subplots(figsize=(3,3))\n",
    "sns.heatmap(kappa_matrix, ax=ax, square=True, cmap='Blues')"
   ]
  }
 ],
 "metadata": {
  "kernelspec": {
   "display_name": "Python 3",
   "language": "python",
   "name": "python3"
  },
  "language_info": {
   "codemirror_mode": {
    "name": "ipython",
    "version": 3
   },
   "file_extension": ".py",
   "mimetype": "text/x-python",
   "name": "python",
   "nbconvert_exporter": "python",
   "pygments_lexer": "ipython3",
   "version": "3.7.3"
  },
  "toc": {
   "base_numbering": 1,
   "nav_menu": {},
   "number_sections": true,
   "sideBar": true,
   "skip_h1_title": false,
   "title_cell": "Table of Contents",
   "title_sidebar": "Contents",
   "toc_cell": false,
   "toc_position": {},
   "toc_section_display": true,
   "toc_window_display": false
  }
 },
 "nbformat": 4,
 "nbformat_minor": 2
}
